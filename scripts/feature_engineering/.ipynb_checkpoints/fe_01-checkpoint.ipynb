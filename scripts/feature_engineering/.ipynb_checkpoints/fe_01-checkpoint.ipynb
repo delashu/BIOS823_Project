{
 "cells": [
  {
   "cell_type": "code",
   "execution_count": 1,
   "metadata": {},
   "outputs": [],
   "source": [
    "import pandas as pd\n",
    "import numpy as np"
   ]
  },
  {
   "cell_type": "code",
   "execution_count": 2,
   "metadata": {},
   "outputs": [],
   "source": [
    "icudf = pd.read_csv(\"https://physionet.org/files/mimiciii-demo/1.4/ICUSTAYS.csv?download\")\n",
    "procdf = pd.read_csv(\"https://physionet.org/files/mimiciii-demo/1.4/PROCEDUREEVENTS_MV.csv?download\")\n",
    "admitdf = pd.read_csv(\"https://physionet.org/files/mimiciii-demo/1.4/ADMISSIONS.csv?download\")\n",
    "drugdf = pd.read_csv(\"https://physionet.org/files/mimiciii-demo/1.4/PRESCRIPTIONS.csv?download\")"
   ]
  },
  {
   "cell_type": "markdown",
   "metadata": {},
   "source": [
    "Procedures"
   ]
  },
  {
   "cell_type": "code",
   "execution_count": 3,
   "metadata": {},
   "outputs": [],
   "source": [
    "procdf = pd.read_csv(\"https://physionet.org/files/mimiciii-demo/1.4/PROCEDUREEVENTS_MV.csv?download\")\n",
    "topprocs = procdf['ordercategoryname'].value_counts().head(8).index.tolist()\n",
    "procdf = procdf[procdf['ordercategoryname'].isin(topprocs)].reset_index()\n",
    "procdf = procdf[procdf['icustay_id'].notna()]\n",
    "myproc_counts = procdf.groupby(['subject_id', 'icustay_id', 'ordercategoryname']).size().reset_index(name='counts')\n",
    "myproc_counts_long = myproc_counts.pivot(index = ['subject_id','icustay_id'], \n",
    "                                         columns = 'ordercategoryname',\n",
    "                                         values = 'counts').reset_index()\n",
    "#.reset_index()\n",
    "myproc_counts_long = myproc_counts_long.replace(np.nan,0)\n",
    "#myproc_counts_long = myproc_counts_long.reset_index(drop=True, inplace=True)\n",
    "myproc_counts_long = myproc_counts_long.rename_axis(None)"
   ]
  },
  {
   "cell_type": "markdown",
   "metadata": {},
   "source": [
    "Drugs"
   ]
  },
  {
   "cell_type": "code",
   "execution_count": null,
   "metadata": {},
   "outputs": [],
   "source": [
    "drugdf = pd.read_csv(\"https://physionet.org/files/mimiciii-demo/1.4/PRESCRIPTIONS.csv?download\")\n",
    "top_twenty = drugdf['formulary_drug_cd'].value_counts().head(20).index.tolist()\n",
    "#filter rows to only these drugs\n",
    "drugdf = drugdf[drugdf['formulary_drug_cd'].isin(top_twenty)].reset_index()\n",
    "drugdf = drugdf[drugdf['icustay_id'].notna()]\n",
    "#now start making counts based on person and icu_stay_id\n",
    "mycounts = drugdf.groupby(['subject_id', 'icustay_id', 'formulary_drug_cd']).size().reset_index(name='counts')\n",
    "mycounts_long = mycounts.pivot(index = ['subject_id','icustay_id'], \n",
    "                               columns = 'formulary_drug_cd', values = 'counts').reset_index()\n",
    "mycounts_long = mycounts_long.replace(np.nan,0)\n",
    "mycounts_long.tail()"
   ]
  }
 ],
 "metadata": {
  "kernelspec": {
   "display_name": "Python 3",
   "language": "python",
   "name": "python3"
  },
  "language_info": {
   "codemirror_mode": {
    "name": "ipython",
    "version": 3
   },
   "file_extension": ".py",
   "mimetype": "text/x-python",
   "name": "python",
   "nbconvert_exporter": "python",
   "pygments_lexer": "ipython3",
   "version": "3.7.8"
  }
 },
 "nbformat": 4,
 "nbformat_minor": 4
}
