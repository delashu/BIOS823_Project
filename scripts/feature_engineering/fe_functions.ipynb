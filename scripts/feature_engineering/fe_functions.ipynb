{
 "cells": [
  {
   "cell_type": "code",
   "execution_count": 1,
   "metadata": {},
   "outputs": [],
   "source": [
    "import pandas as pd\n",
    "import numpy as np\n",
    "import pickle\n",
    "import sqlite3"
   ]
  },
  {
   "cell_type": "code",
   "execution_count": 2,
   "metadata": {},
   "outputs": [],
   "source": [
    "# load crosstables of procedures and presscriptions \n",
    "with open(\"../../crosstables/procedure_list.txt\", \"rb\") as fp:   # Unpickling\n",
    "    procedure_list = pickle.load(fp)\n",
    "with open(\"../../crosstables/prescription_list.txt\", \"rb\") as dl:   # Unpickling\n",
    "    drug_list = pickle.load(dl)"
   ]
  },
  {
   "cell_type": "code",
   "execution_count": 3,
   "metadata": {},
   "outputs": [],
   "source": [
    "# connect to database\n",
    "con = sqlite3.connect('MIMIC3_full.db')"
   ]
  },
  {
   "cell_type": "code",
   "execution_count": 4,
   "metadata": {},
   "outputs": [],
   "source": [
    "# query data\n",
    "admitdf = pd.read_sql('select * from admission', con)\n",
    "icudf =  pd.read_sql('select * from icu', con)\n",
    "procdf = pd.read_sql('select * from procedure', con)\n",
    "drugdf = pd.read_sql('select * from prescription', con)\n",
    "con.close()"
   ]
  },
  {
   "cell_type": "code",
   "execution_count": 5,
   "metadata": {},
   "outputs": [],
   "source": [
    "admitdf.columns = admitdf.columns.str.lower()\n",
    "icudf.columns = icudf.columns.str.lower()\n",
    "procdf.columns = procdf.columns.str.lower()\n",
    "drugdf.columns = drugdf.columns.str.lower()"
   ]
  },
  {
   "cell_type": "code",
   "execution_count": 8,
   "metadata": {},
   "outputs": [],
   "source": [
    "def feature_eng(admit, icu, proc, drug):\n",
    "    \"\"\"\n",
    "    INPUT: data frames (admission, icu, procedures, and prescriptions)\n",
    "    BEHAVIOR: clean and merge data frames \n",
    "    OUTPUT: analytic (cleaned) data frame\n",
    "    \"\"\"    \n",
    "    # select necessary columns in admissions and icu data frames\n",
    "    admit_fields = [\"subject_id\",\"hadm_id\", \"admission_type\", \"admission_location\", \n",
    "          \"discharge_location\", \"insurance\", \"diagnosis\", \"hospital_expire_flag\"]\n",
    "    admitdf = admit[admit_fields]    \n",
    "    icu_fields =[\"subject_id\", \"hadm_id\", \"icustay_id\", \"first_careunit\", \"last_careunit\",\n",
    "        \"first_wardid\", \"last_wardid\", \"los\"]\n",
    "    icudf = icu[icu_fields]\n",
    "    \n",
    "    # merge icu and admissions data frames\n",
    "    icu_admin = pd.merge(icudf, admitdf, how='left', on='hadm_id')\n",
    "    icu_full = (\n",
    "                icu_admin.\n",
    "                drop(columns=['subject_id_y']).\n",
    "                rename(columns={\"subject_id_x\": \"subject_id\"})\n",
    "    )\n",
    "    \n",
    "    # select top 8 procedures and count number of each procedure by patient\n",
    "    procdf = proc\n",
    "    procdf = procdf[procdf['ordercategoryname'].isin(procedure_list)].reset_index()\n",
    "    procdf = procdf[procdf['icustay_id'].notna()]\n",
    "    myproc_counts = procdf.groupby(['subject_id', 'icustay_id', 'ordercategoryname']).size().reset_index(name='counts')\n",
    "    # convert data to long format with procedures as columns\n",
    "    myproc_counts_long = myproc_counts.pivot(index = ['subject_id','icustay_id'], \n",
    "                                             columns = 'ordercategoryname',\n",
    "                                             values = 'counts').reset_index()\n",
    "    myproc_counts_long = myproc_counts_long.replace(np.nan,0)\n",
    "    myproc_counts_long = myproc_counts_long.rename_axis(None).drop(columns=['subject_id'])\n",
    "\n",
    "    # filter rows to only top 20 drugs prescribed\n",
    "    drugdf = drug\n",
    "    drugdf = drugdf[drugdf['formulary_drug_cd'].isin(drug_list)].reset_index()\n",
    "    drugdf = drugdf[drugdf['icustay_id'].notna()]\n",
    "    \n",
    "    # counts of drugs based on person and icu_stay_id\n",
    "    mycounts = drugdf.groupby(['subject_id', 'icustay_id', 'formulary_drug_cd']).size().reset_index(name='counts')\n",
    "    mycounts_long = mycounts.pivot(index = ['subject_id','icustay_id'], \n",
    "                                   columns = 'formulary_drug_cd', values = 'counts').reset_index()\n",
    "    mycounts_long = mycounts_long.replace(np.nan,0).drop(columns=['subject_id'])\n",
    "    \n",
    "    df1 = pd.merge(icu_full, mycounts_long, how='left', on='icustay_id')\n",
    "    analyticdf = pd.merge(df1, myproc_counts_long, how='left', on='icustay_id')\n",
    "    \n",
    "    # convert nas in procedure and drug columns to 0\n",
    "    analyticdf[procedure_list] = analyticdf[procedure_list].fillna(0)\n",
    "    analyticdf[drug_list] = analyticdf[drug_list].fillna(0)\n",
    "    \n",
    "    # drop columns that are not necessary for analysis\n",
    "    analyticdf = analyticdf.drop(columns=['subject_id', 'hadm_id', 'icustay_id',\n",
    "                                          'discharge_location', 'last_careunit',\n",
    "                                         'last_wardid'])\n",
    "    \n",
    "    # categorize diagnoses (based on domain knowledge)\n",
    "    analyticdf['diagnosis'] = np.where(analyticdf['diagnosis'].str.contains(\"congestive heart failure\", case=False), \"CV Failure\", \n",
    "                                np.where(analyticdf['diagnosis'].str.contains(\"sepsis\", case=False), \"Sepsis\",\n",
    "                                np.where(analyticdf['diagnosis'].str.contains(\"seizure\", case=False), \"CNS Failure\",\n",
    "                                np.where(analyticdf['diagnosis'].str.contains(\"stroke\", case=False), \"CNS Failure\",\n",
    "                                np.where(analyticdf['diagnosis'].str.contains(\"tia\", case=False), \"CNS Failure\",\n",
    "                                np.where(analyticdf['diagnosis'].str.contains(\"ACUTE CHOLANGITIS\", case=False), \"Organ Failure\",\n",
    "                                np.where(analyticdf['diagnosis'].str.contains(\"GI BLEED\", case=False), \"Organ Failure\",\n",
    "                                np.where(analyticdf['diagnosis'].str.contains(\"lung failure\", case=False), \"Organ Failure\",\n",
    "                                np.where(analyticdf['diagnosis'].str.contains(\"liver failure\", case=False), \"Organ Failure\",\n",
    "                                np.where(analyticdf['diagnosis'].str.contains(\"MYOCARDIAL INFARCTION\", case=False), \"CV Failure\", \"Other\"))))))))))\n",
    "    \n",
    "    # convert nas in the outcome column to 0\n",
    "    analyticdf['hospital_expire_flag'] = analyticdf['hospital_expire_flag'].fillna(0)\n",
    "    \n",
    "    # convert government insurance to other (miss classified as Medicaid and Medicare are categories)\n",
    "    analyticdf = analyticdf.replace({'insurance': 'Government'}, 'Other')\n",
    "    \n",
    "    # convert nas in remaining columns to \"other\"\n",
    "    analyticdf = analyticdf.fillna(\"Other\")\n",
    "    \n",
    "    # make categorical vars categorical  \n",
    "    to_categ = ['first_wardid','first_careunit','hospital_expire_flag',\n",
    "                'admission_type','admission_location','insurance','diagnosis']\n",
    "    analyticdf[to_categ] = analyticdf[to_categ].astype('category')\n",
    "    \n",
    "    # select top 2 ward ids by number of deaths\n",
    "    analyticdf['first_wardid'] = np.where(analyticdf['first_wardid']==52, \"52\",\n",
    "                                   np.where(analyticdf['first_wardid'] == 23, \"23\", \"Other\"))\n",
    "    \n",
    "    return analyticdf"
   ]
  },
  {
   "cell_type": "code",
   "execution_count": 24,
   "metadata": {},
   "outputs": [],
   "source": [
    "# data files\n",
    "# procdf = \"https://physionet.org/files/mimiciii-demo/1.4/PROCEDUREEVENTS_MV.csv?download\"\n",
    "# drugdf = \"https://physionet.org/files/mimiciii-demo/1.4/PRESCRIPTIONS.csv?download\"\n",
    "# admitdf = \"https://physionet.org/files/mimiciii-demo/1.4/ADMISSIONS.csv?download\"\n",
    "# icudf = \"https://physionet.org/files/mimiciii-demo/1.4/ICUSTAYS.csv?download\""
   ]
  },
  {
   "cell_type": "code",
   "execution_count": 9,
   "metadata": {},
   "outputs": [],
   "source": [
    "# call data\n",
    "testdat = feature_eng(admitdf, icudf, procdf, drugdf)\n",
    "####PICKLE THE DATA \n",
    "testdat.to_pickle(\"../modeling/full_training.pkl\") "
   ]
  }
 ],
 "metadata": {
  "kernelspec": {
   "display_name": "Python 3",
   "language": "python",
   "name": "python3"
  },
  "language_info": {
   "codemirror_mode": {
    "name": "ipython",
    "version": 3
   },
   "file_extension": ".py",
   "mimetype": "text/x-python",
   "name": "python",
   "nbconvert_exporter": "python",
   "pygments_lexer": "ipython3",
   "version": "3.7.8"
  }
 },
 "nbformat": 4,
 "nbformat_minor": 4
}
