{
 "cells": [
  {
   "cell_type": "code",
   "execution_count": 1,
   "metadata": {},
   "outputs": [],
   "source": [
    "import pandas as pd\n",
    "import numpy as np\n",
    "import pickle"
   ]
  },
  {
   "cell_type": "code",
   "execution_count": 2,
   "metadata": {},
   "outputs": [],
   "source": [
    "#load in crosstables: \n",
    "with open(\"../../crosstables/procedure_list.txt\", \"rb\") as fp:   # Unpickling\n",
    "    procedure_list = pickle.load(fp)\n",
    "with open(\"../../crosstables/prescription_list.txt\", \"rb\") as dl:   # Unpickling\n",
    "    drug_list = pickle.load(dl)"
   ]
  },
  {
   "cell_type": "code",
   "execution_count": 3,
   "metadata": {},
   "outputs": [],
   "source": [
    "def feature_eng(admit, icu, proc, drug):\n",
    "    \"\"\"\n",
    "    INPUT: dataframes (admission, icu, procedures, and prescriptions)\n",
    "    BEHAVIOR: \n",
    "    OUTPUT:\n",
    "    \"\"\"    \n",
    "    admit_fields = [\"subject_id\",\"hadm_id\", \"admission_type\", \"admission_location\", \n",
    "          \"discharge_location\", \"insurance\", \"diagnosis\", \"hospital_expire_flag\"]\n",
    "    admitdf = pd.read_csv(admit, usecols = admit_fields)    \n",
    "    icu_fields =[\"subject_id\", \"hadm_id\", \"icustay_id\", \"first_careunit\", \"last_careunit\",\n",
    "        \"first_wardid\", \"last_wardid\", \"los\"]\n",
    "    icudf = pd.read_csv(icu, usecols = icu_fields)\n",
    "    \n",
    "    deaths = admitdf[admitdf['discharge_location'].isin(['DEAD/EXPIRED'])]\n",
    "    icu_admin = pd.merge(icudf, deaths, how='left', on='hadm_id')\n",
    "\n",
    "    icu_full = (\n",
    "                icu_admin.\n",
    "                drop(columns=['subject_id_y']).\n",
    "                rename(columns={\"subject_id_x\": \"subject_id\"})\n",
    "    )\n",
    "    \n",
    "    procdf = pd.read_csv(proc)\n",
    "    procdf = procdf[procdf['ordercategoryname'].isin(procedure_list)].reset_index()\n",
    "    procdf = procdf[procdf['icustay_id'].notna()]\n",
    "    myproc_counts = procdf.groupby(['subject_id', 'icustay_id', 'ordercategoryname']).size().reset_index(name='counts')\n",
    "    myproc_counts_long = myproc_counts.pivot(index = ['subject_id','icustay_id'], \n",
    "                                             columns = 'ordercategoryname',\n",
    "                                             values = 'counts').reset_index()\n",
    "    myproc_counts_long = myproc_counts_long.replace(np.nan,0)\n",
    "    myproc_counts_long = myproc_counts_long.rename_axis(None).drop(columns=['subject_id'])\n",
    "\n",
    "    drugdf = pd.read_csv(drug)\n",
    "    #filter rows to only these drugs\n",
    "    drugdf = drugdf[drugdf['formulary_drug_cd'].isin(drug_list)].reset_index()\n",
    "    drugdf = drugdf[drugdf['icustay_id'].notna()]\n",
    "    #now start making counts based on person and icu_stay_id\n",
    "    mycounts = drugdf.groupby(['subject_id', 'icustay_id', 'formulary_drug_cd']).size().reset_index(name='counts')\n",
    "    mycounts_long = mycounts.pivot(index = ['subject_id','icustay_id'], \n",
    "                                   columns = 'formulary_drug_cd', values = 'counts').reset_index()\n",
    "    mycounts_long = mycounts_long.replace(np.nan,0).drop(columns=['subject_id'])\n",
    "    \n",
    "    df1 = pd.merge(icu_full, mycounts_long, how='left', on='icustay_id')\n",
    "    analyticdf = pd.merge(df1, myproc_counts_long, how='left', on='icustay_id')\n",
    "    # convert nas in specific columns to 0\n",
    "    analyticdf[procedure_list] = analyticdf[procedure_list].fillna(0)\n",
    "    analyticdf[drug_list] = analyticdf[drug_list].fillna(0)\n",
    "    analyticdf = analyticdf.drop(columns=['subject_id', 'hadm_id', 'icustay_id',\n",
    "                                          'discharge_location', 'last_careunit',\n",
    "                                         'last_wardid'])\n",
    "    #categorize diagnoses\n",
    "    analyticdf['diagnosis'] = np.where(analyticdf['diagnosis'].str.contains(\"congestive heart failure\", case=False), \"CV Failure\", \n",
    "                                np.where(analyticdf['diagnosis'].str.contains(\"sepsis\", case=False), \"Sepsis\",\n",
    "                                np.where(analyticdf['diagnosis'].str.contains(\"seizure\", case=False), \"CNS Failure\",\n",
    "                                np.where(analyticdf['diagnosis'].str.contains(\"stroke\", case=False), \"CNS Failure\",\n",
    "                                np.where(analyticdf['diagnosis'].str.contains(\"tia\", case=False), \"CNS Failure\",\n",
    "                                np.where(analyticdf['diagnosis'].str.contains(\"ACUTE CHOLANGITIS\", case=False), \"Organ Failure\",\n",
    "                                np.where(analyticdf['diagnosis'].str.contains(\"GI BLEED\", case=False), \"Organ Failure\",\n",
    "                                np.where(analyticdf['diagnosis'].str.contains(\"lung failure\", case=False), \"Organ Failure\",\n",
    "                                np.where(analyticdf['diagnosis'].str.contains(\"liver failure\", case=False), \"Organ Failure\",\n",
    "                                np.where(analyticdf['diagnosis'].str.contains(\"MYOCARDIAL INFARCTION\", case=False), \"CV Failure\", \"Other\"))))))))))\n",
    "    \n",
    "    \n",
    "    # convert nas in specific columns in the outcome column\n",
    "    analyticdf['hospital_expire_flag'] = analyticdf['hospital_expire_flag'].fillna(0)\n",
    "    #make wardID a categorical  \n",
    "    to_categ = ['first_wardid','first_careunit','hospital_expire_flag',\n",
    "                'admission_type','admission_location','insurance','diagnosis']\n",
    "    analyticdf[to_categ] = analyticdf[to_categ].astype('category')\n",
    "    return analyticdf"
   ]
  },
  {
   "cell_type": "code",
   "execution_count": 4,
   "metadata": {},
   "outputs": [],
   "source": [
    "# data files\n",
    "procdf = \"https://physionet.org/files/mimiciii-demo/1.4/PROCEDUREEVENTS_MV.csv?download\"\n",
    "drugdf = \"https://physionet.org/files/mimiciii-demo/1.4/PRESCRIPTIONS.csv?download\"\n",
    "admitdf = \"https://physionet.org/files/mimiciii-demo/1.4/ADMISSIONS.csv?download\"\n",
    "icudf = \"https://physionet.org/files/mimiciii-demo/1.4/ICUSTAYS.csv?download\""
   ]
  },
  {
   "cell_type": "code",
   "execution_count": 5,
   "metadata": {},
   "outputs": [],
   "source": [
    "# call data\n",
    "testdat = feature_eng(admitdf, icudf, procdf, drugdf)\n",
    "####PICKLE THE DATA \n",
    "#testdat.to_pickle(\"../modeling/demo_training.pkl\") "
   ]
  }
 ],
 "metadata": {
  "kernelspec": {
   "display_name": "Python 3",
   "language": "python",
   "name": "python3"
  },
  "language_info": {
   "codemirror_mode": {
    "name": "ipython",
    "version": 3
   },
   "file_extension": ".py",
   "mimetype": "text/x-python",
   "name": "python",
   "nbconvert_exporter": "python",
   "pygments_lexer": "ipython3",
   "version": "3.7.8"
  }
 },
 "nbformat": 4,
 "nbformat_minor": 4
}
