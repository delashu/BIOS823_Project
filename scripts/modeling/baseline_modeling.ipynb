{
 "cells": [
  {
   "cell_type": "markdown",
   "metadata": {},
   "source": [
    "Baseline Modeling\n",
    "\n",
    "Derived from B02: ML Examples"
   ]
  },
  {
   "cell_type": "code",
   "execution_count": 62,
   "metadata": {},
   "outputs": [],
   "source": [
    "import pandas as pd\n",
    "import numpy as np\n",
    "from sklearn.model_selection import train_test_split\n",
    "from sklearn.preprocessing import StandardScaler\n",
    "from sklearn.dummy import DummyClassifier\n",
    "from sklearn.neighbors import KNeighborsClassifier\n",
    "from sklearn.linear_model import LogisticRegression\n",
    "from sklearn.svm import SVC\n",
    "from sklearn.tree import DecisionTreeClassifier\n",
    "from sklearn.neural_network import MLPClassifier\n",
    "from sklearn.ensemble import RandomForestClassifier\n",
    "from xgboost import XGBClassifier"
   ]
  },
  {
   "cell_type": "code",
   "execution_count": 50,
   "metadata": {},
   "outputs": [],
   "source": [
    "#load in the training data\n",
    "df = pd.read_pickle('demo_training.pkl')"
   ]
  },
  {
   "cell_type": "code",
   "execution_count": 51,
   "metadata": {},
   "outputs": [],
   "source": [
    "cat_vars = df[['first_wardid','first_careunit','hospital_expire_flag',\n",
    "                'admission_type','admission_location','insurance','diagnosis']]\n",
    "cat_dummies = pd.get_dummies(cat_vars, drop_first=True)\n",
    "cat_dummies.head()\n",
    "\n",
    "df = df.drop(['first_wardid','first_careunit','hospital_expire_flag',\n",
    "                'admission_type','admission_location','insurance','diagnosis'], axis=1)\n",
    "df = pd.concat([df, cat_dummies], axis=1)"
   ]
  },
  {
   "cell_type": "code",
   "execution_count": 52,
   "metadata": {},
   "outputs": [],
   "source": [
    "X = df.drop(columns = ['hospital_expire_flag_1.0'])\n",
    "y = df['hospital_expire_flag_1.0']"
   ]
  },
  {
   "cell_type": "code",
   "execution_count": 53,
   "metadata": {},
   "outputs": [],
   "source": [
    "X_train, X_test, y_train, y_test = train_test_split(X, y, random_state=1125, stratify=y)"
   ]
  },
  {
   "cell_type": "code",
   "execution_count": 54,
   "metadata": {},
   "outputs": [],
   "source": [
    "scaler = StandardScaler()\n",
    "X_train = scaler.fit_transform(X_train)\n",
    "X_test = scaler.transform(X_test)"
   ]
  },
  {
   "cell_type": "code",
   "execution_count": 55,
   "metadata": {},
   "outputs": [
    {
     "data": {
      "text/plain": [
       "0    0.676471\n",
       "1    0.323529\n",
       "Name: hospital_expire_flag_1.0, dtype: float64"
      ]
     },
     "execution_count": 55,
     "metadata": {},
     "output_type": "execute_result"
    }
   ],
   "source": [
    "pd.Series(y_test).value_counts(normalize=True)"
   ]
  },
  {
   "cell_type": "code",
   "execution_count": 65,
   "metadata": {},
   "outputs": [],
   "source": [
    "sl_modles = dict(\n",
    "    dummy = DummyClassifier(strategy='prior'),\n",
    "    knn = KNeighborsClassifier(),\n",
    "    lr = LogisticRegression(),\n",
    "    svc = SVC(),\n",
    "    nn = MLPClassifier(max_iter=500),\n",
    "    clf=RandomForestClassifier(n_estimators=100),\n",
    "    xgb = XGBClassifier()\n",
    ")"
   ]
  },
  {
   "cell_type": "code",
   "execution_count": 66,
   "metadata": {},
   "outputs": [
    {
     "name": "stdout",
     "output_type": "stream",
     "text": [
      "dummy: 0.676\n",
      "knn: 0.971\n",
      "lr: 1.000\n",
      "svc: 0.971\n",
      "nn: 1.000\n",
      "clf: 1.000\n",
      "xgb: 1.000\n"
     ]
    }
   ],
   "source": [
    "for name, clf in sl_modles.items():\n",
    "    clf.fit(X_train, y_train)\n",
    "    score = clf.score(X_test, y_test)\n",
    "    print(f'{name}: {score:.3f}')"
   ]
  }
 ],
 "metadata": {
  "kernelspec": {
   "display_name": "Python 3",
   "language": "python",
   "name": "python3"
  },
  "language_info": {
   "codemirror_mode": {
    "name": "ipython",
    "version": 3
   },
   "file_extension": ".py",
   "mimetype": "text/x-python",
   "name": "python",
   "nbconvert_exporter": "python",
   "pygments_lexer": "ipython3",
   "version": "3.7.8"
  }
 },
 "nbformat": 4,
 "nbformat_minor": 4
}
