{
 "cells": [
  {
   "cell_type": "code",
   "execution_count": 6,
   "id": "9400983c",
   "metadata": {},
   "outputs": [],
   "source": [
    "import numpy as np\n",
    "import pandas as pd\n",
    "from pandas_profiling import ProfileReport"
   ]
  },
  {
   "cell_type": "markdown",
   "id": "2c48f4af",
   "metadata": {},
   "source": [
    "## Admission"
   ]
  },
  {
   "cell_type": "code",
   "execution_count": null,
   "id": "636039b7",
   "metadata": {},
   "outputs": [],
   "source": [
    "profile = ProfileReport(df, title=\"Pandas Profiling Report\")"
   ]
  }
 ],
 "metadata": {
  "kernelspec": {
   "display_name": "Python 3.9.6 64-bit ('base': conda)",
   "language": "python",
   "name": "python396jvsc74a57bd01bfde1bab1735ab62a1661db3996a0b5b96d4153fd775dc8a2c3abc2e8c4435f"
  },
  "language_info": {
   "codemirror_mode": {
    "name": "ipython",
    "version": 3
   },
   "file_extension": ".py",
   "mimetype": "text/x-python",
   "name": "python",
   "nbconvert_exporter": "python",
   "pygments_lexer": "ipython3",
   "version": "3.9.6"
  }
 },
 "nbformat": 4,
 "nbformat_minor": 5
}
