{
 "cells": [
  {
   "cell_type": "code",
   "execution_count": 1,
   "id": "f6c4930c-98fe-4bea-8d94-a9c22dba4777",
   "metadata": {},
   "outputs": [],
   "source": [
    "import numpy as np\n",
    "import pandas as pd\n",
    "\n",
    "import sqlite3"
   ]
  },
  {
   "cell_type": "code",
   "execution_count": 6,
   "id": "b462225b-8f4b-4f5f-ae30-50c8a36d10ce",
   "metadata": {},
   "outputs": [],
   "source": [
    "admission = pd.read_csv('./_demo_data/ADMISSIONS.csv')\n",
    "pres = pd.read_csv('./_demo_data/PRESCRIPTIONS.csv')\n",
    "icu = pd.read_csv('./_demo_data/ICUSTAYS.csv')\n",
    "pro_event = pd.read_csv('./_demo_data/PROCEDUREEVENTS_MV.csv')"
   ]
  },
  {
   "cell_type": "code",
   "execution_count": 9,
   "id": "ba6661f0-0289-45dd-981e-066eead315ae",
   "metadata": {},
   "outputs": [],
   "source": [
    "con = sqlite3.connect('MIMIC3_demo.db')\n",
    "cur = con.cursor()\n",
    "\n",
    "\n",
    "admission.to_sql('admissions', con, if_exists='replace', index = False)\n",
    "pres.to_sql('prescriptions', con, if_exists='replace', index = False)\n",
    "icu.to_sql('icustays', con, if_exists='replace', index = False)\n",
    "pro_event.to_sql('procedureevents', con, if_exists='replace', index = False)\n",
    "\n",
    "\n",
    "con.commit()\n",
    "con.close()"
   ]
  },
  {
   "cell_type": "code",
   "execution_count": 2,
   "id": "1b5e3c88-8210-490e-afac-a0453d83707a",
   "metadata": {},
   "outputs": [],
   "source": [
    "%load_ext sql"
   ]
  },
  {
   "cell_type": "code",
   "execution_count": 6,
   "id": "d4f1ba4f-7f12-469e-b0c6-d1264125478f",
   "metadata": {},
   "outputs": [
    {
     "data": {
      "text/plain": [
       "'Connected: @database/MIMIC3_demo.db'"
      ]
     },
     "execution_count": 6,
     "metadata": {},
     "output_type": "execute_result"
    }
   ],
   "source": [
    "%sql sqlite:///database/MIMIC3_demo.db"
   ]
  },
  {
   "cell_type": "code",
   "execution_count": 7,
   "id": "d5ca81ad-f906-43b9-b64b-5faee712b1ce",
   "metadata": {},
   "outputs": [
    {
     "name": "stdout",
     "output_type": "stream",
     "text": [
      "   sqlite:///MIMIC3_demo.db\n",
      " * sqlite:///database/MIMIC3_demo.db\n",
      "Done.\n"
     ]
    },
    {
     "data": {
      "text/html": [
       "<table>\n",
       "    <thead>\n",
       "        <tr>\n",
       "            <th>type</th>\n",
       "            <th>name</th>\n",
       "            <th>tbl_name</th>\n",
       "            <th>rootpage</th>\n",
       "            <th>sql</th>\n",
       "        </tr>\n",
       "    </thead>\n",
       "    <tbody>\n",
       "        <tr>\n",
       "            <td>table</td>\n",
       "            <td>admissions</td>\n",
       "            <td>admissions</td>\n",
       "            <td>2</td>\n",
       "            <td>CREATE TABLE &quot;admissions&quot; (<br>&quot;row_id&quot; INTEGER,<br>  &quot;subject_id&quot; INTEGER,<br>  &quot;hadm_id&quot; INTEGER,<br>  &quot;admittime&quot; TEXT,<br>  &quot;dischtime&quot; TEXT,<br>  &quot;deathtime&quot; TEXT,<br>  &quot;admission_type&quot; TEXT,<br>  &quot;admission_location&quot; TEXT,<br>  &quot;discharge_location&quot; TEXT,<br>  &quot;insurance&quot; TEXT,<br>  &quot;language&quot; TEXT,<br>  &quot;religion&quot; TEXT,<br>  &quot;marital_status&quot; TEXT,<br>  &quot;ethnicity&quot; TEXT,<br>  &quot;edregtime&quot; TEXT,<br>  &quot;edouttime&quot; TEXT,<br>  &quot;diagnosis&quot; TEXT,<br>  &quot;hospital_expire_flag&quot; INTEGER,<br>  &quot;has_chartevents_data&quot; INTEGER<br>)</td>\n",
       "        </tr>\n",
       "        <tr>\n",
       "            <td>table</td>\n",
       "            <td>prescriptions</td>\n",
       "            <td>prescriptions</td>\n",
       "            <td>10</td>\n",
       "            <td>CREATE TABLE &quot;prescriptions&quot; (<br>&quot;row_id&quot; INTEGER,<br>  &quot;subject_id&quot; INTEGER,<br>  &quot;hadm_id&quot; INTEGER,<br>  &quot;icustay_id&quot; REAL,<br>  &quot;startdate&quot; TEXT,<br>  &quot;enddate&quot; TEXT,<br>  &quot;drug_type&quot; TEXT,<br>  &quot;drug&quot; TEXT,<br>  &quot;drug_name_poe&quot; TEXT,<br>  &quot;drug_name_generic&quot; TEXT,<br>  &quot;formulary_drug_cd&quot; TEXT,<br>  &quot;gsn&quot; REAL,<br>  &quot;ndc&quot; REAL,<br>  &quot;prod_strength&quot; TEXT,<br>  &quot;dose_val_rx&quot; TEXT,<br>  &quot;dose_unit_rx&quot; TEXT,<br>  &quot;form_val_disp&quot; TEXT,<br>  &quot;form_unit_disp&quot; TEXT,<br>  &quot;route&quot; TEXT<br>)</td>\n",
       "        </tr>\n",
       "        <tr>\n",
       "            <td>table</td>\n",
       "            <td>icustays</td>\n",
       "            <td>icustays</td>\n",
       "            <td>392</td>\n",
       "            <td>CREATE TABLE &quot;icustays&quot; (<br>&quot;row_id&quot; INTEGER,<br>  &quot;subject_id&quot; INTEGER,<br>  &quot;hadm_id&quot; INTEGER,<br>  &quot;icustay_id&quot; INTEGER,<br>  &quot;dbsource&quot; TEXT,<br>  &quot;first_careunit&quot; TEXT,<br>  &quot;last_careunit&quot; TEXT,<br>  &quot;first_wardid&quot; INTEGER,<br>  &quot;last_wardid&quot; INTEGER,<br>  &quot;intime&quot; TEXT,<br>  &quot;outtime&quot; TEXT,<br>  &quot;los&quot; REAL<br>)</td>\n",
       "        </tr>\n",
       "        <tr>\n",
       "            <td>table</td>\n",
       "            <td>procedureevents</td>\n",
       "            <td>procedureevents</td>\n",
       "            <td>397</td>\n",
       "            <td>CREATE TABLE &quot;procedureevents&quot; (<br>&quot;row_id&quot; INTEGER,<br>  &quot;subject_id&quot; INTEGER,<br>  &quot;hadm_id&quot; INTEGER,<br>  &quot;icustay_id&quot; INTEGER,<br>  &quot;starttime&quot; TEXT,<br>  &quot;endtime&quot; TEXT,<br>  &quot;itemid&quot; INTEGER,<br>  &quot;value&quot; INTEGER,<br>  &quot;valueuom&quot; TEXT,<br>  &quot;location&quot; TEXT,<br>  &quot;locationcategory&quot; TEXT,<br>  &quot;storetime&quot; TEXT,<br>  &quot;cgid&quot; INTEGER,<br>  &quot;orderid&quot; INTEGER,<br>  &quot;linkorderid&quot; INTEGER,<br>  &quot;ordercategoryname&quot; TEXT,<br>  &quot;secondaryordercategoryname&quot; REAL,<br>  &quot;ordercategorydescription&quot; TEXT,<br>  &quot;isopenbag&quot; INTEGER,<br>  &quot;continueinnextdept&quot; INTEGER,<br>  &quot;cancelreason&quot; INTEGER,<br>  &quot;statusdescription&quot; TEXT,<br>  &quot;comments_editedby&quot; TEXT,<br>  &quot;comments_canceledby&quot; TEXT,<br>  &quot;comments_date&quot; TEXT<br>)</td>\n",
       "        </tr>\n",
       "    </tbody>\n",
       "</table>"
      ],
      "text/plain": [
       "[('table', 'admissions', 'admissions', 2, 'CREATE TABLE \"admissions\" (\\n\"row_id\" INTEGER,\\n  \"subject_id\" INTEGER,\\n  \"hadm_id\" INTEGER,\\n  \"admittime\" TEXT,\\n  \"dischtime\" TEXT,\\n  \"deathtime ... (187 characters truncated) ... hnicity\" TEXT,\\n  \"edregtime\" TEXT,\\n  \"edouttime\" TEXT,\\n  \"diagnosis\" TEXT,\\n  \"hospital_expire_flag\" INTEGER,\\n  \"has_chartevents_data\" INTEGER\\n)'),\n",
       " ('table', 'prescriptions', 'prescriptions', 10, 'CREATE TABLE \"prescriptions\" (\\n\"row_id\" INTEGER,\\n  \"subject_id\" INTEGER,\\n  \"hadm_id\" INTEGER,\\n  \"icustay_id\" REAL,\\n  \"startdate\" TEXT,\\n  \"endda ... (152 characters truncated) ... \" REAL,\\n  \"prod_strength\" TEXT,\\n  \"dose_val_rx\" TEXT,\\n  \"dose_unit_rx\" TEXT,\\n  \"form_val_disp\" TEXT,\\n  \"form_unit_disp\" TEXT,\\n  \"route\" TEXT\\n)'),\n",
       " ('table', 'icustays', 'icustays', 392, 'CREATE TABLE \"icustays\" (\\n\"row_id\" INTEGER,\\n  \"subject_id\" INTEGER,\\n  \"hadm_id\" INTEGER,\\n  \"icustay_id\" INTEGER,\\n  \"dbsource\" TEXT,\\n  \"first_careunit\" TEXT,\\n  \"last_careunit\" TEXT,\\n  \"first_wardid\" INTEGER,\\n  \"last_wardid\" INTEGER,\\n  \"intime\" TEXT,\\n  \"outtime\" TEXT,\\n  \"los\" REAL\\n)'),\n",
       " ('table', 'procedureevents', 'procedureevents', 397, 'CREATE TABLE \"procedureevents\" (\\n\"row_id\" INTEGER,\\n  \"subject_id\" INTEGER,\\n  \"hadm_id\" INTEGER,\\n  \"icustay_id\" INTEGER,\\n  \"starttime\" TEXT,\\n  \" ... (365 characters truncated) ... TEGER,\\n  \"cancelreason\" INTEGER,\\n  \"statusdescription\" TEXT,\\n  \"comments_editedby\" TEXT,\\n  \"comments_canceledby\" TEXT,\\n  \"comments_date\" TEXT\\n)')]"
      ]
     },
     "execution_count": 7,
     "metadata": {},
     "output_type": "execute_result"
    }
   ],
   "source": [
    "%%sql\n",
    "\n",
    "SELECT * FROM sqlite_master WHERE type = 'table'"
   ]
  },
  {
   "cell_type": "code",
   "execution_count": null,
   "id": "41cbca6e-970c-4610-b187-b6c27edf5b44",
   "metadata": {},
   "outputs": [],
   "source": []
  }
 ],
 "metadata": {
  "kernelspec": {
   "display_name": "Python 3 (ipykernel)",
   "language": "python",
   "name": "python3"
  },
  "language_info": {
   "codemirror_mode": {
    "name": "ipython",
    "version": 3
   },
   "file_extension": ".py",
   "mimetype": "text/x-python",
   "name": "python",
   "nbconvert_exporter": "python",
   "pygments_lexer": "ipython3",
   "version": "3.8.12"
  }
 },
 "nbformat": 4,
 "nbformat_minor": 5
}
